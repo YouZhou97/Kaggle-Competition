{
 "cells": [
  {
   "cell_type": "markdown",
   "metadata": {},
   "source": [
    "### Configure Model"
   ]
  },
  {
   "cell_type": "code",
   "execution_count": 1,
   "metadata": {
    "collapsed": true,
    "jupyter": {
     "outputs_hidden": true,
     "source_hidden": true
    }
   },
   "outputs": [
    {
     "name": "stdout",
     "output_type": "stream",
     "text": [
      "Model compiled successfully!\n",
      "Model saved successfully!\n"
     ]
    }
   ],
   "source": [
    "from tensorflow.keras.models import Sequential\n",
    "from tensorflow.keras.layers import Dense,Dropout,Conv2D,MaxPooling2D,Flatten,BatchNormalization,Activation\n",
    "model = Sequential()\n",
    "model.add(Conv2D(64, (3, 3), padding='same', input_shape=(256,256,3), activation=\"relu\"))\n",
    "model.add(Conv2D(64, (3, 3),activation=\"relu\"))\n",
    "model.add(MaxPooling2D(pool_size=(2, 2)))\n",
    "model.add(Dropout(0.25))\n",
    "model.add(Conv2D(128, (3, 3), padding='same', activation=\"relu\"))\n",
    "model.add(Conv2D(128, (3, 3),activation=\"relu\"))\n",
    "model.add(MaxPooling2D(pool_size=(4, 4)))         #(2,2) ?\n",
    "model.add(Dropout(0.25))\n",
    "model.add(Flatten())\n",
    "\n",
    "model.add(Dense(1024,activation=\"relu\"))\n",
    "model.add(Dense(16, activation=\"relu\"))\n",
    "model.add(Dense(1,  activation='relu'))\n",
    "\n",
    "model.compile(optimizer=\"adam\",loss=\"mean_squared_error\")\n",
    "print('Model compiled successfully!')\n",
    "model.save(filepath=\"/storage/Manual Model.h5\",\n",
    "               overwrite=True,include_optimizer=True,save_format='h5')\n",
    "print(\"Model saved successfully!\")"
   ]
  },
  {
   "cell_type": "markdown",
   "metadata": {},
   "source": [
    "### Configure Data Generator"
   ]
  },
  {
   "cell_type": "code",
   "execution_count": 1,
   "metadata": {},
   "outputs": [
    {
     "name": "stdout",
     "output_type": "stream",
     "text": [
      "Found 40000 validated image filenames.\n",
      "Found 5000 validated image filenames.\n"
     ]
    }
   ],
   "source": [
    "import pandas as pd\n",
    "df = pd.read_csv(\"/storage/data.csv\")\n",
    "df['filename']=\"clips-\"+df[\"id\"].astype(str)+\".png\"\n",
    "\n",
    "df_validate = pd.read_csv(\"/storage/validate.csv\", na_values=['NA', '?'])\n",
    "df_validate['filename']=\"clips-\"+df_validate[\"id\"].astype(str)+\".png\"\n",
    "\n",
    "\n",
    "df_train = df[:40000] #45000 images in total\n",
    "df_test = df[40000:45000]\n",
    "\n",
    "import tensorflow as tf\n",
    "import keras_preprocessing\n",
    "from keras_preprocessing import image\n",
    "from keras_preprocessing.image import ImageDataGenerator\n",
    "\n",
    "IMAGES_DIR = \"/storage/clips\"\n",
    "\n",
    "training_datagen = ImageDataGenerator(rescale = 1./255., horizontal_flip=True, \n",
    "                                      vertical_flip=True, fill_mode='nearest')\n",
    "train_generator = training_datagen.flow_from_dataframe(\n",
    "        dataframe=df_train,\n",
    "        directory=IMAGES_DIR,\n",
    "        x_col=\"filename\",\n",
    "        y_col=\"clip_count\",\n",
    "        target_size=(256, 256),\n",
    "        batch_size=64,\n",
    "        class_mode='other')\n",
    "\n",
    "test_datagen = ImageDataGenerator(rescale = 1./255)\n",
    "\n",
    "test_generator = test_datagen.flow_from_dataframe(\n",
    "        dataframe=df_test,\n",
    "        directory=IMAGES_DIR,\n",
    "        x_col=\"filename\",\n",
    "        y_col=\"clip_count\",\n",
    "        target_size=(256, 256),\n",
    "        class_mode='other')"
   ]
  },
  {
   "cell_type": "code",
   "execution_count": 6,
   "metadata": {},
   "outputs": [
    {
     "name": "stdout",
     "output_type": "stream",
     "text": [
      "Successfully created callback: Monitor\n",
      "Successfully created callback: Checkpoint\n",
      "Epoch 112/200\n",
      "624/625 [============================>.] - ETA: 0s - loss: 0.3808\n",
      "Epoch 00112: saving model to /storage/Manual Model.h5\n",
      "625/625 [==============================] - 661s 1s/step - loss: 0.3807 - val_loss: 0.5533\n",
      "Epoch 113/200\n",
      "624/625 [============================>.] - ETA: 0s - loss: 0.3651\n",
      "Epoch 00113: saving model to /storage/Manual Model.h5\n",
      "625/625 [==============================] - 659s 1s/step - loss: 0.3652 - val_loss: 0.8318\n",
      "Epoch 114/200\n",
      "624/625 [============================>.] - ETA: 0s - loss: 0.3576\n",
      "Epoch 00114: saving model to /storage/Manual Model.h5\n",
      "625/625 [==============================] - 662s 1s/step - loss: 0.3578 - val_loss: 0.5594\n",
      "Epoch 115/200\n",
      "624/625 [============================>.] - ETA: 0s - loss: 0.3829\n",
      "Epoch 00115: saving model to /storage/Manual Model.h5\n",
      "625/625 [==============================] - 661s 1s/step - loss: 0.3828 - val_loss: 0.6808\n",
      "Epoch 116/200\n",
      "624/625 [============================>.] - ETA: 0s - loss: 0.3668\n",
      "Epoch 00116: saving model to /storage/Manual Model.h5\n",
      "625/625 [==============================] - 661s 1s/step - loss: 0.3668 - val_loss: 0.5502\n",
      "Epoch 117/200\n",
      "624/625 [============================>.] - ETA: 0s - loss: 0.3612\n",
      "Epoch 00117: saving model to /storage/Manual Model.h5\n",
      "625/625 [==============================] - 661s 1s/step - loss: 0.3624 - val_loss: 0.5728\n",
      "Epoch 118/200\n",
      "624/625 [============================>.] - ETA: 0s - loss: 0.4041\n",
      "Epoch 00118: saving model to /storage/Manual Model.h5\n",
      "625/625 [==============================] - 661s 1s/step - loss: 0.4043 - val_loss: 0.5469\n",
      "Epoch 119/200\n",
      "624/625 [============================>.] - ETA: 0s - loss: 0.3750\n",
      "Epoch 00119: saving model to /storage/Manual Model.h5\n",
      "625/625 [==============================] - 624s 998ms/step - loss: 0.3749 - val_loss: 0.6379\n",
      "Epoch 120/200\n",
      "624/625 [============================>.] - ETA: 0s - loss: 0.3439\n",
      "Epoch 00120: saving model to /storage/Manual Model.h5\n",
      "625/625 [==============================] - 656s 1s/step - loss: 0.3439 - val_loss: 0.7164\n",
      "Epoch 121/200\n",
      "624/625 [============================>.] - ETA: 0s - loss: 0.3493\n",
      "Epoch 00121: saving model to /storage/Manual Model.h5\n",
      "625/625 [==============================] - 659s 1s/step - loss: 0.3493 - val_loss: 0.6873\n",
      "Epoch 122/200\n",
      "624/625 [============================>.] - ETA: 0s - loss: 0.3564\n",
      "Epoch 00122: saving model to /storage/Manual Model.h5\n",
      "625/625 [==============================] - 660s 1s/step - loss: 0.3563 - val_loss: 0.6429\n",
      "Epoch 123/200\n",
      "624/625 [============================>.] - ETA: 0s - loss: 0.3846\n",
      "Epoch 00123: saving model to /storage/Manual Model.h5\n",
      "Restoring model weights from the end of the best epoch.\n",
      "625/625 [==============================] - 660s 1s/step - loss: 0.3846 - val_loss: 0.6174\n",
      "Epoch 00123: early stopping\n"
     ]
    }
   ],
   "source": [
    "import pandas as pd\n",
    "import numpy as np\n",
    "from PIL import Image\n",
    "from tensorflow.keras.callbacks import ModelCheckpoint\n",
    "import os\n",
    "from tensorflow.keras.callbacks import EarlyStopping\n",
    "from tensorflow.keras.models import load_model\n",
    "if(\"model\" not in globals().keys()):\n",
    "    model=load_model(\"/storage/Manual Model.h5\",compile=False)\n",
    "    model.compile(optimizer=\"adam\",loss=\"mean_squared_error\")\n",
    "    print(\"Successfully loaded h5 model!\")\n",
    "\n",
    "monitor = EarlyStopping(monitor='val_loss', min_delta=1e-3, patience=5, verbose=1, mode='auto',\n",
    "        restore_best_weights=True)\n",
    "print(\"Successfully created callback: Monitor\")\n",
    "checkpoint = ModelCheckpoint(\"/storage/Manual Model.h5\", \n",
    "                             monitor='val_loss', verbose=1)\n",
    "print(\"Successfully created callback: Checkpoint\")\n",
    "history = model.fit_generator(train_generator, validation_data=test_generator, steps_per_epoch=625,\n",
    "                    callbacks=[checkpoint,monitor], epochs=200, verbose = 1,\n",
    "                    initial_epoch=111) \n"
   ]
  },
  {
   "cell_type": "code",
   "execution_count": null,
   "metadata": {},
   "outputs": [],
   "source": [
    "from tensorflow.keras.models import load_model\n",
    "model=load_model(\"/storage/2020-04-06(0.61).h5\",compile=False)\n",
    "model.compile(optimizer=\"adam\",loss=\"mean_squared_error\")\n",
    "print(\"Successfully loaded h5 model!\")"
   ]
  },
  {
   "cell_type": "code",
   "execution_count": 7,
   "metadata": {},
   "outputs": [
    {
     "name": "stdout",
     "output_type": "stream",
     "text": [
      "Found 5000 validated image filenames.\n"
     ]
    }
   ],
   "source": [
    "import pandas as pd\n",
    "\n",
    "df_validate = pd.read_csv(\"/storage/validate.csv\", na_values=['NA', '?'])\n",
    "df_validate['filename']=\"clips-\"+df_validate[\"id\"].astype(str)+\".png\"\n",
    "\n",
    "import tensorflow as tf\n",
    "import keras_preprocessing\n",
    "from keras_preprocessing import image\n",
    "from keras_preprocessing.image import ImageDataGenerator\n",
    "\n",
    "IMAGES_DIR = \"/storage/clips\"\n",
    "\n",
    "val_datagen = ImageDataGenerator(rescale = 1./255)\n",
    "\n",
    "val_generator = val_datagen.flow_from_dataframe(\n",
    "        dataframe=df_validate,\n",
    "        directory=IMAGES_DIR,\n",
    "        x_col=\"filename\",\n",
    "        y_col=\"id\",\n",
    "        target_size=(256, 256),\n",
    "        class_mode='other')"
   ]
  },
  {
   "cell_type": "code",
   "execution_count": 8,
   "metadata": {},
   "outputs": [
    {
     "name": "stderr",
     "output_type": "stream",
     "text": [
      "100%|██████████| 5000/5000 [04:10<00:00, 19.92it/s]\n"
     ]
    },
    {
     "data": {
      "text/html": [
       "<div>\n",
       "<style scoped>\n",
       "    .dataframe tbody tr th:only-of-type {\n",
       "        vertical-align: middle;\n",
       "    }\n",
       "\n",
       "    .dataframe tbody tr th {\n",
       "        vertical-align: top;\n",
       "    }\n",
       "\n",
       "    .dataframe thead th {\n",
       "        text-align: right;\n",
       "    }\n",
       "</style>\n",
       "<table border=\"1\" class=\"dataframe\">\n",
       "  <thead>\n",
       "    <tr style=\"text-align: right;\">\n",
       "      <th></th>\n",
       "      <th>clips</th>\n",
       "    </tr>\n",
       "  </thead>\n",
       "  <tbody>\n",
       "    <tr>\n",
       "      <th>25001</th>\n",
       "      <td>2.054140</td>\n",
       "    </tr>\n",
       "    <tr>\n",
       "      <th>25002</th>\n",
       "      <td>47.178310</td>\n",
       "    </tr>\n",
       "    <tr>\n",
       "      <th>25003</th>\n",
       "      <td>63.330708</td>\n",
       "    </tr>\n",
       "    <tr>\n",
       "      <th>25004</th>\n",
       "      <td>3.544874</td>\n",
       "    </tr>\n",
       "    <tr>\n",
       "      <th>25005</th>\n",
       "      <td>44.842930</td>\n",
       "    </tr>\n",
       "    <tr>\n",
       "      <th>...</th>\n",
       "      <td>...</td>\n",
       "    </tr>\n",
       "    <tr>\n",
       "      <th>29996</th>\n",
       "      <td>31.811995</td>\n",
       "    </tr>\n",
       "    <tr>\n",
       "      <th>29997</th>\n",
       "      <td>55.457638</td>\n",
       "    </tr>\n",
       "    <tr>\n",
       "      <th>29998</th>\n",
       "      <td>61.454952</td>\n",
       "    </tr>\n",
       "    <tr>\n",
       "      <th>29999</th>\n",
       "      <td>4.945584</td>\n",
       "    </tr>\n",
       "    <tr>\n",
       "      <th>30000</th>\n",
       "      <td>31.279673</td>\n",
       "    </tr>\n",
       "  </tbody>\n",
       "</table>\n",
       "<p>5000 rows × 1 columns</p>\n",
       "</div>"
      ],
      "text/plain": [
       "           clips\n",
       "25001   2.054140\n",
       "25002  47.178310\n",
       "25003  63.330708\n",
       "25004   3.544874\n",
       "25005  44.842930\n",
       "...          ...\n",
       "29996  31.811995\n",
       "29997  55.457638\n",
       "29998  61.454952\n",
       "29999   4.945584\n",
       "30000  31.279673\n",
       "\n",
       "[5000 rows x 1 columns]"
      ]
     },
     "execution_count": 8,
     "metadata": {},
     "output_type": "execute_result"
    }
   ],
   "source": [
    "from PIL import Image\n",
    "import numpy as np\n",
    "from tqdm import tqdm\n",
    "\n",
    "df = pd.DataFrame()\n",
    "\n",
    "for i in tqdm(range(5000)):\n",
    "    arr=np.expand_dims(np.array(Image.open(f\"/storage/clips/clips-{25001+i}.png\"))/255, 0)\n",
    "    df.loc[i+25001,\"clips\"]=model.predict(arr)\n",
    "df"
   ]
  },
  {
   "cell_type": "code",
   "execution_count": 11,
   "metadata": {},
   "outputs": [],
   "source": [
    "df.to_csv(\"/notebooks/submit.csv\")"
   ]
  },
  {
   "cell_type": "code",
   "execution_count": null,
   "metadata": {},
   "outputs": [],
   "source": [
    "! pip install tqdm"
   ]
  },
  {
   "cell_type": "code",
   "execution_count": 10,
   "metadata": {},
   "outputs": [
    {
     "data": {
      "image/png": "[encoded data removed]",
      "text/plain": [
       "<Figure size 432x288 with 1 Axes>"
      ]
     },
     "metadata": {
      "needs_background": "light"
     },
     "output_type": "display_data"
    },
    {
     "data": {
      "text/plain": [
       "0.5787314589089702"
      ]
     },
     "metadata": {},
     "output_type": "display_data"
    }
   ],
   "source": [
    "import pandas as pd\n",
    "df=pd.read_csv(\"/notebooks/test_prediction.csv\")\n",
    "df.columns=[\"id\",\"clip_count\"]\n",
    "df[\"clip_count\"]=df[\"clip_count\"].apply(lambda x: 75 if x>75 else x)\n",
    "df[\"decimal\"]=df[\"clip_count\"]-df[\"clip_count\"].astype(\"int\")\n",
    "df[\"integer\"]=df[\"clip_count\"].astype(\"int\")\n",
    "df[\"True count\"]=pd.read_csv(\"/storage/data.csv\")[\"clip_count\"][-5000:].values\n",
    "df[\"error\"]=df[\"True count\"]-df[\"clip_count\"]\n",
    "#display(df)\n",
    "import matplotlib.pyplot as plt\n",
    "plt.scatter(df[\"True count\"],df[\"clip_count\"])\n",
    "plt.show()\n",
    "\n",
    "from sklearn.metrics import mean_squared_error\n",
    "display(mean_squared_error(df[\"clip_count\"],df[\"True count\"]))"
   ]
  },
  {
   "cell_type": "code",
   "execution_count": null,
   "metadata": {},
   "outputs": [],
   "source": []
  }
 ],
 "metadata": {
  "kernelspec": {
   "display_name": "Python 3",
   "language": "python",
   "name": "python3"
  },
  "language_info": {
   "codemirror_mode": {
    "name": "ipython",
    "version": 3
   },
   "file_extension": ".py",
   "mimetype": "text/x-python",
   "name": "python",
   "nbconvert_exporter": "python",
   "pygments_lexer": "ipython3",
   "version": "3.6.8"
  }
 },
 "nbformat": 4,
 "nbformat_minor": 4
}
